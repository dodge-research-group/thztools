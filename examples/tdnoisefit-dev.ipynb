{
 "cells": [
  {
   "cell_type": "markdown",
   "source": [
    "# Procedure for estimating noise parameters"
   ],
   "metadata": {
    "collapsed": false
   }
  },
  {
   "cell_type": "code",
   "execution_count": 1,
   "outputs": [],
   "source": [
    "from matplotlib import pyplot as plt\n",
    "from matplotlib.figure import figaspect\n",
    "\n",
    "import numpy as np\n",
    "from numpy.random import default_rng\n",
    "\n",
    "import thztools as thz"
   ],
   "metadata": {
    "collapsed": false,
    "ExecuteTime": {
     "end_time": "2023-08-02T19:01:39.839395Z",
     "start_time": "2023-08-02T19:01:39.334403Z"
    }
   }
  },
  {
   "cell_type": "markdown",
   "source": [
    "## Simulate measurements\n",
    "Simulate a set of `m` waveforms, each sampled at `n` time points, with noise parameters\n",
    "`sigma_alpha`, `sigma_beta`, and `sigma_tau`, and store them in an array `x`. Note that\n",
    "`x` stores the waveforms in row orientation, with shape `(m, n)`, because NumPy\n",
    "broadcasting rules and FFT functions are simpler for arrays that are row-oriented.\n",
    "Measurement waveforms are typically loaded from data files in column orientation,\n",
    "however, so the `tdnoisefit` function assumes that the data array is column-oriented—this\n",
    "may be worth changing in a future version."
   ],
   "metadata": {
    "collapsed": false
   }
  },
  {
   "cell_type": "code",
   "execution_count": 2,
   "outputs": [],
   "source": [
    "n = 256  # Number of samples\n",
    "m = 50  # Number of waveforms\n",
    "ts = 0.05  # Sampling time [ps]\n",
    "t0 = 2.5  # Peak pulse time [ps]\n",
    "fs = 1 / ts  # Sampling frequency [THz]\n",
    "\n",
    "sigma_alpha = 1e-4  # Additive noise amplitude [signal units]\n",
    "sigma_beta = 1e-2  # Multiplicative noise amplitude [dimensionless]\n",
    "sigma_tau = 1e-3  # Time base noise amplitude [ps]\n",
    "sigma_parms = np.array([sigma_alpha, sigma_beta, sigma_tau])\n",
    "\n",
    "seed = 0  # RNG seed\n",
    "rng = default_rng(seed)"
   ],
   "metadata": {
    "collapsed": false,
    "ExecuteTime": {
     "end_time": "2023-08-02T19:01:39.842705Z",
     "start_time": "2023-08-02T19:01:39.841032Z"
    }
   }
  },
  {
   "cell_type": "code",
   "execution_count": 3,
   "outputs": [],
   "source": [
    "mu, t = thz.thzgen(n, ts, t0)\n",
    "sigma = thz.noiseamp(sigma_parms, mu, ts)\n",
    "\n",
    "# Use broadcasting to generate multiple simulated noisy measurements of y\n",
    "x = mu + sigma * rng.standard_normal((m, n))"
   ],
   "metadata": {
    "collapsed": false,
    "ExecuteTime": {
     "end_time": "2023-08-02T19:01:39.847606Z",
     "start_time": "2023-08-02T19:01:39.844380Z"
    }
   }
  },
  {
   "cell_type": "markdown",
   "source": [
    "## Fit for the noise parameters\n",
    "\n",
    "Set the initial guesses `a0` and `eta0` for the amplitudes and delays, respectively, and\n",
    "estimate the noise parameters from the simulated measurements. Note that we must take the\n",
    "transpose of `x`, to convert it from row-orientation to column-orientation."
   ],
   "metadata": {
    "collapsed": false
   }
  },
  {
   "cell_type": "code",
   "execution_count": 4,
   "outputs": [],
   "source": [
    "# tdnoisefit expects a column-oriented data array\n",
    "a0 = np.ones(m)\n",
    "eta0 = np.zeros(m)\n",
    "result = thz.tdnoisefit(\n",
    "    x.T, a0=a0, eta0=eta0, ts=ts, fix_a=False, fix_eta=False\n",
    ")"
   ],
   "metadata": {
    "collapsed": false,
    "ExecuteTime": {
     "end_time": "2023-08-02T19:01:45.691427Z",
     "start_time": "2023-08-02T19:01:39.848037Z"
    }
   }
  },
  {
   "cell_type": "markdown",
   "source": [
    "### Check the variance amplitude estimates\n",
    "\n",
    "The `tdnoisefit` function returns a tuple with three elements: a dictionary `p` of output\n",
    "parameters; the value `fval` of the cost function at those parameters; and a dictionary\n",
    "`diagnostic` that includes additional diagnostic information about the result, including\n",
    "the parameter uncertainty. Note that noise parameter uncertainty is expressed as a\n",
    "standard deviation, so the uncertainty in the noise parameters refers to the standard\n",
    "deviation of the variance amplitude. We apply the Poisson correction to each variance\n",
    "parameter and its associated uncertainty—that is we multiply each by `m / (m - 1)`."
   ],
   "metadata": {
    "collapsed": false
   }
  },
  {
   "cell_type": "code",
   "execution_count": 5,
   "outputs": [
    {
     "name": "stdout",
     "output_type": "stream",
     "text": [
      "Estimated var_alpha: 9.961e-09 ± 1.505e-10\n",
      "Estimated var_beta: 9.437e-05 ± 3.555e-06\n",
      "Estimated var_tau: 8.819e-07 ± 7.455e-08\n"
     ]
    }
   ],
   "source": [
    "p_names = [\"var_alpha\", \"var_beta\", \"var_tau\"]\n",
    "for i in range(3):\n",
    "    val = result[0]['var'][i] * (m / (m - 1))\n",
    "    err = result[2]['err']['var'][i] * (m / (m - 1))\n",
    "    print(f\"Estimated {p_names[i]}: {val:.4g} ± {err:.4g}\")"
   ],
   "metadata": {
    "collapsed": false,
    "ExecuteTime": {
     "end_time": "2023-08-02T19:01:45.695412Z",
     "start_time": "2023-08-02T19:01:45.693142Z"
    }
   }
  },
  {
   "cell_type": "markdown",
   "source": [
    "### Check the noise amplitude estimates\n",
    "\n",
    "Compare the noise amplitude estimates with their true values, specified in the\n",
    "simulation. The noise amplitudes are just the square root of the variance amplitudes,\n",
    "and propagating the error for the noise amplitude uncertainty yields\n",
    "\n",
    "$$\n",
    "\\sigma^2_{\\sigma_k} = \\left(\\frac{dV_k}{d\\sigma_k}\\right)^{-2} \\sigma^2_{V_k}\n",
    "= \\frac{1}{2\\sigma_k} \\sigma^2_{V_k}.\n",
    "$$"
   ],
   "metadata": {
    "collapsed": false
   }
  },
  {
   "cell_type": "code",
   "execution_count": 6,
   "outputs": [
    {
     "name": "stdout",
     "output_type": "stream",
     "text": [
      "Estimated sigma_alpha: 9.981e-05 ± 7.541e-07\n",
      "Estimated sigma_beta: 0.009715 ± 0.000183\n",
      "Estimated sigma_tau: 0.0009391 ± 3.97e-05\n",
      "Estimated sigma_alpha, relative to true value: 0.998 ± 0.008\n",
      "Estimated sigma_beta, relative to true value: 0.971 ± 0.018\n",
      "Estimated sigma_tau, relative to true value: 0.939 ± 0.037\n"
     ]
    }
   ],
   "source": [
    "p_names = [\"sigma_alpha\", \"sigma_beta\", \"sigma_tau\"]\n",
    "for i in range(3):\n",
    "    val = np.sqrt(result[0]['var'][i] * (m / (m - 1)))\n",
    "    err = 0.5 * result[2]['err']['var'][i] * (m / (m - 1)) / val\n",
    "    print(f\"Estimated {p_names[i]}: {val:.4g} ± {err:.4g}\")\n",
    "for i in range(3):\n",
    "    val = np.sqrt(result[0]['var'][i] * (m / (m - 1))) / sigma_parms[i]\n",
    "    err = (\n",
    "        0.5\n",
    "        * result[2]['err']['var'][i]\n",
    "        * (m / (m - 1))\n",
    "        / (sigma_parms[i] ** 2)\n",
    "    )\n",
    "    print(\n",
    "        f\"Estimated {p_names[i]}, relative to true value: {val:.3f} ± {err:.3f}\"\n",
    "    )"
   ],
   "metadata": {
    "collapsed": false,
    "ExecuteTime": {
     "end_time": "2023-08-02T19:01:45.699260Z",
     "start_time": "2023-08-02T19:01:45.697316Z"
    }
   }
  }
 ],
 "metadata": {
  "kernelspec": {
   "display_name": "Python 3",
   "language": "python",
   "name": "python3"
  },
  "language_info": {
   "codemirror_mode": {
    "name": "ipython",
    "version": 2
   },
   "file_extension": ".py",
   "mimetype": "text/x-python",
   "name": "python",
   "nbconvert_exporter": "python",
   "pygments_lexer": "ipython2",
   "version": "2.7.6"
  }
 },
 "nbformat": 4,
 "nbformat_minor": 0
}
